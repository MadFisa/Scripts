{
 "cells": [
  {
   "cell_type": "markdown",
   "metadata": {
    "raw_mimetype": "text/latex"
   },
   "source": [
    "# Loading required packages\n"
   ]
  },
  {
   "cell_type": "code",
   "execution_count": 1,
   "metadata": {},
   "outputs": [],
   "source": [
    "import numpy as np\n",
    "from pylab import *\n",
    "from astropy.io import ascii\n",
    "from astropy import units\n",
    "import matplotlib\n",
    "import matplotlib.pyplot as plt\n",
    "import emcee"
   ]
  },
  {
   "cell_type": "markdown",
   "metadata": {},
   "source": [
    "# Calculating flux @ 5 keV"
   ]
  },
  {
   "cell_type": "code",
   "execution_count": 2,
   "metadata": {
    "scrolled": true,
    "slideshow": {
     "slide_type": "-"
    }
   },
   "outputs": [],
   "source": [
    "t, tpos, tneg ,  flux ,fluxpos , fluxneg = np.loadtxt( 'xrt_0.3-10keV.txt' ,dtype=float,unpack=True,usecols=[0,1,2,3,4,5])\n",
    "gamma, gammapos,gammaneg= np.loadtxt( 'gamma_0.3-10keV.txt' ,dtype=float,unpack=True,skiprows=0,usecols=[3,4,5])\n",
    "\n",
    "E= 5 #keV\n",
    "num=4.3*10**11*(2-gamma)*(np.power(E,1-gamma))\n",
    "den=((10**(2-gamma))-(0.3**(2-gamma)))\n",
    "flux=flux*(num/den)*1e-3\n",
    "fluxpos=fluxpos*(num/den)*1e-3\n",
    "fluxneg=fluxneg*(num/den)*1e-3\n",
    "ferr=(fluxpos+(-fluxneg))/2\n",
    "f=open('fluxdensity@5keV_xrt_190829A.txt','w')\n",
    "f.write('#time(s)\\t tpos(s)\\t tneg(s)\\t  E(keV)\\t  F.D.(mJy)\\t fluxpos(mJy)\\t fluxneg(mJy)\\n')\n",
    "for i in range(len(t)):\n",
    "       f.write('%1.8e\\t %1.8e\\t% 1.8e \\t%1.8e \\t%1.8e \\t%1.8e \\t%1.8e \\n' %(t[i], tpos[i], tneg[i] ,  E,flux[i] ,fluxpos[i] , fluxneg[i]))\n",
    "f.close()\n"
   ]
  },
  {
   "cell_type": "markdown",
   "metadata": {},
   "source": [
    "# Optical : Converting mag to flux (galactic corrected)"
   ]
  },
  {
   "cell_type": "code",
   "execution_count": 3,
   "metadata": {
    "scrolled": true
   },
   "outputs": [
    {
     "name": "stdout",
     "output_type": "stream",
     "text": [
      "[0.641 0.798 1.22  1.22  1.22  1.63  1.63  1.63  2.19  2.19  2.19  0.483\n",
      " 0.483 0.483 0.483 0.483 0.483 0.626 0.626 0.626 0.626 0.626 0.626 0.626\n",
      " 0.767 0.767 0.767 0.767 0.767 0.767 0.767 0.91  0.91  0.91  0.91  0.91 ] [0.10763436 0.07564282 0.09414394 0.09414394 0.09414394 0.32349344\n",
      " 0.32349344 0.32349344 0.79626711 0.79626711 0.79626711 0.16976082\n",
      " 0.16976082 0.16976082 0.16976082 0.16976082 0.16976082 0.11181696\n",
      " 0.11181696 0.11181696 0.11181696 0.11181696 0.11181696 0.11181696\n",
      " 0.08062539 0.08062539 0.08062539 0.08062539 0.08062539 0.08062539\n",
      " 0.08062539 0.06127131 0.06127131 0.06127131 0.06127131 0.06127131]\n"
     ]
    }
   ],
   "source": [
    "t0, m0, merr0, w0, zp0 = np.loadtxt( 'GRB190829A_op.txt' ,dtype=float,unpack=True,skiprows=0,usecols=[0,1,2,3,4])\n",
    "t0= t0*3600\n",
    "Extn=0.0420\n",
    " # galactic extinction\n",
    "A_V=3.1*Extn\n",
    "# finding the value of extinction in given band (ref :Cardelli et al.)\n",
    "#p=eff_wavelength\n",
    "size=len(w0)\n",
    "p=1/w0\n",
    "i=0\n",
    "Rv=3.1\n",
    "p1=np.zeros(size)\n",
    "p2=np.zeros(size)\n",
    "r=np.zeros(size)\n",
    "a=np.zeros(size)\n",
    "b=np.zeros(size)\n",
    "A=np.zeros(size)\n",
    "f0=np.zeros(size)\n",
    "ferr0=np.zeros(size)\n",
    "for i in range (0, size) :\n",
    "    if (0.30<p[i] <1.1):\n",
    "        r[i]=(p[i]-1.82)\n",
    "        a[i]=1+0.17699*r[i]-0.50447*(r[i]**2)-0.02427*(r[i]**3)+0.72085*(r[i]**4)+0.01979*(r[i]**5)-0.77530*(r[i]**6)+0.32999*(r[i]**7)\n",
    "        b[i]=1.41338*r[i]+2.28305*(r[i]**2)+1.07233*(r[i]**3)-5.38434*(r[i]**4)-0.62251*(r[i]**5)+5.30260*(r[i]**6)-2.09002*(r[i]**7)\n",
    "        A[i]=A_V*(a[i]+b[i]/Rv)\n",
    "        m0[i]= m0[i] - A[i]\n",
    "        f0[i]=((10**(-m0[i]/2.5))*zp0[i])\n",
    "        ferr0[i]=((zp0[i])*(0.4*2.302585093*merr0[i])*(10**(-0.4*m0[i])))\n",
    "    if (1.1<p[i]<3.3):\n",
    "        a[i]=0.574*p[i]**(1.61)\n",
    "        b[i]=-0.527*p[i]**(1.61)\n",
    "        A[i]=A_V*(a[i]+b[i]/Rv)\n",
    "        m0[i]= m0[i] - A[i]\n",
    "        f0[i]=((10**(-m0[i]/2.5))*zp0[i])\n",
    "        ferr0[i]=((zp0[i])*(0.4*2.302585093*merr0[i])*(10**(-0.4*m0[i])))\n",
    "    if (3.3<p[i]<5.9):    \n",
    "        a[i] = 1.752 - 0.316*p[i] - 0.104/((p[i] - 4.67)*2+ 0.341) \n",
    "        b[i] = -3.090 + 1.825*p[i] + 1.206/((p[i] - 4.62)*2+ 0.263) \n",
    "        A[i]=A_V*(a[i]+b[i]/Rv) \n",
    "        m0[i]= m0[i] - A[i]\n",
    "        f0[i]=((10**(-m0[i]/2.5))*zp0[i])\n",
    "        ferr0[i]=((zp0[i])*(0.4*2.302585093*merr0[i])*(10**(-0.4*m0[i])))\n",
    "    \n",
    "\n",
    "#correcting for galactic extinction\n",
    "#m0=m0-A\n",
    "print(w0,A)\n",
    "f0=f0*10**(3)\n",
    "ferr0=ferr0*10**(3)\n",
    "f=open('fluxdensity_op_190829A.txt','w')\n",
    "f.write('#time(sec)\\t   wavelength(micron)\\t  zeropt(Jy)\\t  mag\\t   magerr\\t   F.D.(Jy)\\t fluxEer(Jy)\\n')\n",
    "\n",
    "for i in range(len(t0)):\n",
    "       f.write('%1.8e\\t %1.8e\\t%1.8e \\t%1.8e \\t%1.8e \\t%1.8e \\t%1.8e \\n' %(t0[i], w0[i],zp0[i],m0[i], merr0[i],f0[i],ferr0[i]))\n",
    "f.close()\n",
    "\n"
   ]
  },
  {
   "cell_type": "markdown",
   "metadata": {},
   "source": [
    "# Creating file for modeling"
   ]
  },
  {
   "cell_type": "code",
   "execution_count": 4,
   "metadata": {},
   "outputs": [
    {
     "name": "stdout",
     "output_type": "stream",
     "text": [
      "[4.67691108e+14 3.75676692e+14 2.45729508e+14 2.45729508e+14\n",
      " 2.45729508e+14 1.83920245e+14 1.83920245e+14 1.83920245e+14\n",
      " 1.36890411e+14 1.36890411e+14 1.36890411e+14 6.20683230e+14\n",
      " 6.20683230e+14 6.20683230e+14 6.20683230e+14 6.20683230e+14\n",
      " 6.20683230e+14 4.78897764e+14 4.78897764e+14 4.78897764e+14\n",
      " 4.78897764e+14 4.78897764e+14 4.78897764e+14 4.78897764e+14\n",
      " 3.90860495e+14 3.90860495e+14 3.90860495e+14 3.90860495e+14\n",
      " 3.90860495e+14 3.90860495e+14 3.90860495e+14 3.29439560e+14\n",
      " 3.29439560e+14 3.29439560e+14 3.29439560e+14 3.29439560e+14]\n"
     ]
    }
   ],
   "source": [
    "c = 2.4180e+17\n",
    "freq = E*c\n",
    "c0 = 2.9979e+14 \n",
    "freq0 = c0/w0\n",
    "print(freq0)\n",
    "f=open('grbdata_190829A.txt','w')\n",
    "f.write('#tobs(s)\\t  nuobs(Hz)\\t   f(mJy)\\t  ferr(mJy)\\n #Optical \\n')\n",
    "for i in range(len(t0)):\n",
    "       f.write('%1.8e\\t %1.8e\\t% 1.8e\\t% 1.8e  \\n' %(t0[i], freq0[i],f0[i],ferr0[i]))\n",
    "f.write('# X-ray \\n')\n",
    "for i in range(len(t)):\n",
    "       f.write('%1.8e\\t %1.8e\\t% 1.8e\\t% 1.8e  \\n' %(t[i], freq,flux[i],ferr[i]))\n",
    "f.close()"
   ]
  },
  {
   "cell_type": "markdown",
   "metadata": {},
   "source": [
    "# Dealing with upper limits"
   ]
  },
  {
   "cell_type": "code",
   "execution_count": 6,
   "metadata": {},
   "outputs": [
    {
     "name": "stdout",
     "output_type": "stream",
     "text": [
      "[0.4346 0.2684 0.2086 0.2246 0.3386 0.5411 0.641  0.626  0.626  0.767\n",
      " 0.767  0.91   0.91  ] [ 0.32913597  0.33722955  0.537303   -0.49190507  0.49193056  0.23127195\n",
      "  0.17605906  0.1829006   0.1829006   0.1318801   0.1318801   0.10022235\n",
      "  0.10022235]\n"
     ]
    }
   ],
   "source": [
    "t0, m0, merr0, w0, zp0 = np.loadtxt( 'GRB051221A_op_uls.txt' ,dtype=float,unpack=True,skiprows=0,usecols=[0,1,2,3,4])\n",
    "#Extn=0.0650\n",
    " # galactic extinction\n",
    "A_V=3.1*Extn\n",
    "# finding the value of extinction in given band (ref :Cardelli et al.)\n",
    "#p=eff_wavelength\n",
    "size=len(w0)\n",
    "p=1/w0\n",
    "i=0\n",
    "Rv=3.1\n",
    "p1=np.zeros(size)\n",
    "p2=np.zeros(size)\n",
    "r=np.zeros(size)\n",
    "a=np.zeros(size)\n",
    "b=np.zeros(size)\n",
    "A=np.zeros(size)\n",
    "f0=np.zeros(size)\n",
    "ferr0=np.zeros(size)\n",
    "for i in range (0, size) :\n",
    "    if (0.30<p[i] <1.1):\n",
    "        r[i]=(p[i]-1.82)\n",
    "        a[i]=1+0.17699*r[i]-0.50447*(r[i]**2)-0.02427*(r[i]**3)+0.72085*(r[i]**4)+0.01979*(r[i]**5)-0.77530*(r[i]**6)+0.32999*(r[i]**7)\n",
    "        b[i]=1.41338*r[i]+2.28305*(r[i]**2)+1.07233*(r[i]**3)-5.38434*(r[i]**4)-0.62251*(r[i]**5)+5.30260*(r[i]**6)-2.09002*(r[i]**7)\n",
    "        A[i]=A_V*(a[i]+b[i]/Rv)\n",
    "        m0[i]= m0[i] - A[i]\n",
    "        f0[i]=((10**(-m0[i]/2.5))*zp0[i])\n",
    "        ferr0[i]=((zp0[i])*(0.4*2.302585093*merr0[i])*(10**(-0.4*m0[i])))\n",
    "    if (1.1<p[i]<3.3):\n",
    "        a[i]=0.574*p[i]**(1.61)\n",
    "        b[i]=-0.527*p[i]**(1.61)\n",
    "        A[i]=A_V*(a[i]+b[i]/Rv)\n",
    "        m0[i]= m0[i] - A[i]\n",
    "        f0[i]=((10**(-m0[i]/2.5))*zp0[i])\n",
    "        ferr0[i]=((zp0[i])*(0.4*2.302585093*merr0[i])*(10**(-0.4*m0[i])))\n",
    "    if (3.3<p[i]<5.9):    \n",
    "        a[i] = 1.752 - 0.316*p[i] - 0.104/((p[i] - 4.67)*2+ 0.341) \n",
    "        b[i] = -3.090 + 1.825*p[i] + 1.206/((p[i] - 4.62)*2+ 0.263) \n",
    "        A[i]=A_V*(a[i]+b[i]/Rv) \n",
    "        m0[i]= m0[i] - A[i]\n",
    "        f0[i]=((10**(-m0[i]/2.5))*zp0[i])\n",
    "        ferr0[i]=((zp0[i])*(0.4*2.302585093*merr0[i])*(10**(-0.4*m0[i])))\n",
    "   \n",
    "\n",
    "#correcting for galactic extinction\n",
    "#m0=m0-A\n",
    "print(w0,A)\n",
    "f0=f0*10**(3)\n",
    "ferr0=ferr0*10**(3)\n",
    "f=open('fluxdensity_op_ul_061201.txt','w')\n",
    "f.write('#time(sec)\\t   wavelength(micron)\\t  zeropt(Jy)\\t  mag_ul\\t   magerr\\t   F.D._ul(mJy)\\t fluxEer_ul(mJy)\\n')\n",
    "\n",
    "for i in range(len(t0)):\n",
    "       f.write('%1.8e\\t %1.8e\\t%1.8e \\t%1.8e \\t%1.8e \\t%1.8e \\t%1.8e \\n' %(t0[i], w0[i],zp0[i],m0[i], merr0[i],f0[i],ferr0[i]))\n",
    "f.close()\n",
    "\n"
   ]
  },
  {
   "cell_type": "code",
   "execution_count": 8,
   "metadata": {},
   "outputs": [
    {
     "name": "stdout",
     "output_type": "stream",
     "text": [
      "[6.89806719e+14 1.11695231e+15 1.43715244e+15 1.33477293e+15\n",
      " 8.85380981e+14 5.54038071e+14 4.67691108e+14 4.78897764e+14\n",
      " 4.78897764e+14 3.90860495e+14 3.90860495e+14 3.29439560e+14\n",
      " 3.29439560e+14]\n"
     ]
    }
   ],
   "source": [
    "c = 2.4180e+17\n",
    "freq = E*c\n",
    "c0 = 2.9979e+14 \n",
    "freq0 = c0/w0\n",
    "print(freq0)\n",
    "f=open('grbdata_051221A.txt','a')\n",
    "f.write('#tobs(s)\\t  nuobs(Hz)\\t   f(mJy)\\t  ferr(mJy)\\n#Optical upper limits \\n')\n",
    "for i in range(len(t0)):\n",
    "       f.write('%1.8e\\t %1.8e\\t% 1.8e\\t% 1.8e \\n' %(t0[i], freq0[i],0.000,f0[i]))        \n",
    "f.close()"
   ]
  },
  {
   "cell_type": "code",
   "execution_count": 6,
   "metadata": {},
   "outputs": [],
   "source": [
    "t,nu,f_r,ferr_r = np.loadtxt( 'radio.txt' ,dtype=float,unpack=True,skiprows=0,usecols=[0,1,2,3])\n",
    "t=t*3600*24\n",
    "f=open('grbdata_190829A.txt','a')\n",
    "f.write('#tobs(s)\\t  nuobs(Hz)\\t   f(mJy)\\t  ferr(mJy)\\n#Radio\\n')\n",
    "for i in range(len(t)):\n",
    "       f.write('%1.8e\\t %1.8e\\t% 1.8e\\t% 1.8e \\n' %(t[i], nu[i],f_r[i],ferr_r[i]))        \n",
    "f.close()"
   ]
  },
  {
   "cell_type": "code",
   "execution_count": null,
   "metadata": {},
   "outputs": [],
   "source": []
  }
 ],
 "metadata": {
  "celltoolbar": "Raw Cell Format",
  "kernelspec": {
   "display_name": "Python 3",
   "language": "python",
   "name": "python3"
  },
  "language_info": {
   "codemirror_mode": {
    "name": "ipython",
    "version": 3
   },
   "file_extension": ".py",
   "mimetype": "text/x-python",
   "name": "python",
   "nbconvert_exporter": "python",
   "pygments_lexer": "ipython3",
   "version": "3.6.10"
  }
 },
 "nbformat": 4,
 "nbformat_minor": 2
}
